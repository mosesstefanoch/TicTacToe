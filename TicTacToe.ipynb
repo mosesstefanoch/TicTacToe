{
 "cells": [
  {
   "cell_type": "code",
   "execution_count": 1,
   "metadata": {},
   "outputs": [],
   "source": [
    "from IPython.display import clear_output\n",
    "\n",
    "def display_board(board):\n",
    "    clear_output()\n",
    "    \n",
    "    print(board[7]+'|'+board[8]+'|'+board[9])\n",
    "    print('-----')\n",
    "    print(board[4]+'|'+board[5]+'|'+board[6])\n",
    "    print('-----')\n",
    "    print(board[1]+'|'+board[2]+'|'+board[3])"
   ]
  },
  {
   "cell_type": "code",
   "execution_count": 2,
   "metadata": {},
   "outputs": [],
   "source": [
    "def player_input():\n",
    "\n",
    "    player = ''\n",
    "    \n",
    "    # LOOP ASKING PLAYER 1 X OR O\n",
    "    \n",
    "    while not (player == 'X' or player == 'O'):\n",
    "        player = input('Player 1: Do you want to be X or O? ').upper()\n",
    "        if player != 'X' and player != 'O':\n",
    "            print(\"Wrong input!\")\n",
    "    \n",
    "    # ASSIGN PLAYER 2\n",
    "    \n",
    "    if player == 'X':\n",
    "        return('X','O')\n",
    "    else:\n",
    "        return('O','X')"
   ]
  },
  {
   "cell_type": "code",
   "execution_count": 3,
   "metadata": {},
   "outputs": [],
   "source": [
    "def place_marker(board, marker, position):\n",
    "    board[position] = marker"
   ]
  },
  {
   "cell_type": "code",
   "execution_count": 4,
   "metadata": {},
   "outputs": [],
   "source": [
    "def win_check(board,mark):\n",
    "    \n",
    "    return ((board[7] == mark and board[8] == mark and board[9] == mark) or # across the top\n",
    "    (board[4] == mark and board[5] == mark and board[6] == mark) or # across the middle\n",
    "    (board[1] == mark and board[2] == mark and board[3] == mark) or # across the bottom\n",
    "    (board[7] == mark and board[4] == mark and board[1] == mark) or # down the middle\n",
    "    (board[8] == mark and board[5] == mark and board[2] == mark) or # down the middle\n",
    "    (board[9] == mark and board[6] == mark and board[3] == mark) or # down the right side\n",
    "    (board[7] == mark and board[5] == mark and board[3] == mark) or # diagonal\n",
    "    (board[9] == mark and board[5] == mark and board[1] == mark)) # diagonal"
   ]
  },
  {
   "cell_type": "code",
   "execution_count": 5,
   "metadata": {},
   "outputs": [],
   "source": [
    "import random\n",
    "\n",
    "def choose_first():\n",
    "    if random.randint(0,1) == 0:\n",
    "        return 'Player 2'\n",
    "    else:\n",
    "        return 'Player 1'"
   ]
  },
  {
   "cell_type": "code",
   "execution_count": 6,
   "metadata": {},
   "outputs": [],
   "source": [
    "def space_check(board, position):\n",
    "    return board[position] == ' '"
   ]
  },
  {
   "cell_type": "code",
   "execution_count": 7,
   "metadata": {},
   "outputs": [],
   "source": [
    "def full_board_check(board):\n",
    "    return ' ' in board"
   ]
  },
  {
   "cell_type": "code",
   "execution_count": 8,
   "metadata": {},
   "outputs": [],
   "source": [
    "def player_choice(board,player):\n",
    "    number = 0\n",
    "    # LOOP ASKING PLAYER 1 X OR O\n",
    "    while number not in range(1,10) or space_check(board,int(number)):\n",
    "        number = input(f'{player} What is your next move? (pick a number from 1 - 9) ')\n",
    "        if(number.isdigit() == False):\n",
    "            print(\"Its not a digit\")\n",
    "        elif(int(number) not in range(1,10)):\n",
    "            print(\"its not in range\")\n",
    "        elif(not space_check(board, int(number))):\n",
    "            print(\"the board is filled\")\n",
    "        else:\n",
    "            return int(number)"
   ]
  },
  {
   "cell_type": "code",
   "execution_count": 9,
   "metadata": {},
   "outputs": [],
   "source": [
    "def replay():\n",
    "    choice = \" \"\n",
    "    while not (choice == 'y' or choice == 'n'):\n",
    "        choice = input('Do you want to play again? (Y or N) ').lower()\n",
    "        if choice != 'y' and choice != 'n':\n",
    "            print(\"Wrong input!\")\n",
    "    \n",
    "    return choice == 'y'"
   ]
  },
  {
   "cell_type": "code",
   "execution_count": 10,
   "metadata": {},
   "outputs": [
    {
     "name": "stdout",
     "output_type": "stream",
     "text": [
      "X| | \n",
      "-----\n",
      "O|X|O\n",
      "-----\n",
      " | |X\n",
      "Player 1 won the game\n",
      "Do you want to play again? (Y or N) 5\n",
      "Wrong input!\n",
      "Do you want to play again? (Y or N) N\n",
      "Thank you for playing\n"
     ]
    }
   ],
   "source": [
    "print('Welcome to Tic Tac Toe!')\n",
    "\n",
    "\n",
    "while True:\n",
    "    # Set the game up here\n",
    "    board = ['#'] + [' ']*9\n",
    "    \n",
    "    player1_role, player2_role = player_input()\n",
    "    \n",
    "    turn = choose_first()\n",
    "    print(turn + ' go first')\n",
    "    \n",
    "    playgame = input('Ready to play ? Y or N: ')\n",
    "    \n",
    "    if playgame.lower() == 'y':\n",
    "        game_on = True\n",
    "    else:\n",
    "        game_on = False\n",
    "\n",
    "    while game_on:\n",
    "        if turn == 'Player 1':\n",
    "        #Player 1 Turn\n",
    "            display_board(board)\n",
    "            position = player_choice(board,turn)\n",
    "            place_marker(board, player1_role, position)\n",
    "        \n",
    "            if win_check(board, player1_role):\n",
    "                display_board(board)\n",
    "                print('Player 1 won the game')\n",
    "                game_on = False\n",
    "                \n",
    "            elif(not full_board_check(board)):\n",
    "                display_board(board)\n",
    "                print('TIE Game')\n",
    "                game_on = False\n",
    "            \n",
    "            turn = 'Player 2'\n",
    "        \n",
    "        else:\n",
    "        # Player2's turn.\n",
    "            display_board(board)\n",
    "            position = player_choice(board,turn)\n",
    "            place_marker(board, player2_role, position)\n",
    "        \n",
    "            if win_check(board, player2_role):\n",
    "                display_board(board)\n",
    "                print('Player 2 won the game')\n",
    "                game_on = False\n",
    "                \n",
    "            elif(not full_board_check(board)):\n",
    "                display_board(board)\n",
    "                print('TIE Game')\n",
    "                game_on = False\n",
    "            \n",
    "            turn = 'Player 1'\n",
    "            \n",
    "\n",
    "    if not replay():\n",
    "        print('Thank you for playing')\n",
    "        break"
   ]
  },
  {
   "cell_type": "code",
   "execution_count": null,
   "metadata": {},
   "outputs": [],
   "source": []
  }
 ],
 "metadata": {
  "kernelspec": {
   "display_name": "Python 3",
   "language": "python",
   "name": "python3"
  },
  "language_info": {
   "codemirror_mode": {
    "name": "ipython",
    "version": 3
   },
   "file_extension": ".py",
   "mimetype": "text/x-python",
   "name": "python",
   "nbconvert_exporter": "python",
   "pygments_lexer": "ipython3",
   "version": "3.8.5"
  }
 },
 "nbformat": 4,
 "nbformat_minor": 1
}
